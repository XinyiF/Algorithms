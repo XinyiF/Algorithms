{
 "cells": [
  {
   "cell_type": "markdown",
   "metadata": {},
   "source": [
    "# 字符串\n",
    "\n",
    "### 最小覆盖子串"
   ]
  },
  {
   "cell_type": "code",
   "execution_count": null,
   "metadata": {},
   "outputs": [],
   "source": [
    "def minWindow(s, t):\n",
    "    \"\"\"\n",
    "    :type s: str\n",
    "    :type t: str\n",
    "    :rtype: str\n",
    "    \"\"\"\n",
    "    if len(s)<2:\n",
    "        if s==t:\n",
    "            return s\n",
    "        else:\n",
    "            return \"\"\n",
    "    need={}\n",
    "    for i in t:\n",
    "        if not i in need:\n",
    "            need[i]=1\n",
    "        else:\n",
    "            need[i]+=1\n",
    "    left,right=0,1\n",
    "    if s[0] in need:\n",
    "        need[s[0]]-=1\n",
    "    Min=\"\"\n",
    "    while left<=right and left<len(s):\n",
    "        temp=s[left:right]\n",
    "        # print(temp)\n",
    "        if max(need.values())>0 and right<len(s)+1:\n",
    "            if right <len(s) and s[right] in need:\n",
    "                need[s[right]]-=1\n",
    "            right+=1\n",
    "        else:\n",
    "            if max(need.values())<=0:\n",
    "                if len(temp)<len(Min) or not Min:\n",
    "                    Min=temp\n",
    "            if s[left] in need:\n",
    "                need[s[left]]+=1\n",
    "            left+=1\n",
    "    return Min"
   ]
  },
  {
   "cell_type": "markdown",
   "metadata": {},
   "source": [
    "### 最多删除一个字符后是否是回文串\n",
    "\n",
    "如果左右不一样，那分成s[left+1:right+1]和s[left:right]两个字串，有一个是回文串则True"
   ]
  },
  {
   "cell_type": "code",
   "execution_count": null,
   "metadata": {},
   "outputs": [],
   "source": [
    "class Solution(object):\n",
    "    def fc(self,s):\n",
    "        l,r=0,len(s)-1\n",
    "        while l<r:\n",
    "            if s[l]!=s[r]:\n",
    "                return False\n",
    "            l+=1\n",
    "            r-=1\n",
    "        return True\n",
    "\n",
    "    def validPalindrome(self, s):\n",
    "        \"\"\"\n",
    "        :type s: str\n",
    "        :rtype: bool\n",
    "        \"\"\"\n",
    "        flag=1\n",
    "        left,right=0,len(s)-1\n",
    "        while left<right:\n",
    "            if s[left]==s[right]:\n",
    "                left+=1\n",
    "                right-=1\n",
    "            else:\n",
    "                s1=s[left+1:right+1]\n",
    "                s2=s[left:right]\n",
    "                flag=0\n",
    "                break\n",
    "        if flag==1:\n",
    "            return True\n",
    "        if self.fc(s1) or self.fc(s2):\n",
    "            return True\n",
    "        return False"
   ]
  },
  {
   "cell_type": "markdown",
   "metadata": {},
   "source": [
    "### 通过删除字母匹配到字典里最长单词"
   ]
  },
  {
   "cell_type": "code",
   "execution_count": null,
   "metadata": {},
   "outputs": [],
   "source": [
    "class Solution(object):\n",
    "    def fc(self,string,target):\n",
    "        s,t=0,0\n",
    "        while s<len(string):\n",
    "            if string[s]==target[t]:\n",
    "                s+=1\n",
    "                t+=1\n",
    "                if t==len(target):\n",
    "                    return True\n",
    "            else:\n",
    "                s+=1\n",
    "        return False\n",
    "    def findLongestWord(self, s, d):\n",
    "        \"\"\"\n",
    "        :type s: str\n",
    "        :type d: List[str]\n",
    "        :rtype: str\n",
    "        \"\"\"\n",
    "        res=\"\"\n",
    "        for target in d:\n",
    "            if self.fc(s,target):\n",
    "                if len(target)>len(res):\n",
    "                    res=target\n",
    "                elif len(target)==len(res):\n",
    "                    if target<res:\n",
    "                        res=target\n",
    "        return res"
   ]
  },
  {
   "cell_type": "markdown",
   "metadata": {},
   "source": [
    "# 快速选择\n",
    "\n",
    "### 在一个未排序的数组中，找到第 k 大的数字。\n",
    "\n",
    "维护一个优先队列\n",
    "\n",
    "heappush(heap,n)数据堆入\n",
    "\n",
    "heappop(heap)将数组堆中的最小元素弹出\n",
    "\n",
    "heapify(heap) 将heap属性强制应用到任意一个列表\n",
    "\n",
    "heapreplace(heap，n)弹出最小的元素被n替代\n",
    "\n",
    "nlargest(n,heap)、nsmallest(n,heap)\n",
    "\n",
    "nlargest: 降序\n",
    "\n",
    "nsmallest: 升序\n",
    "\n",
    "任何可迭代的对象iter中第n大或者第n小的元素"
   ]
  },
  {
   "cell_type": "code",
   "execution_count": 19,
   "metadata": {},
   "outputs": [],
   "source": [
    "import heapq\n",
    "class Solution(object):\n",
    "    def findKthLargest(self, nums, k):\n",
    "        \"\"\"\n",
    "        :type nums: List[int]\n",
    "        :type k: int\n",
    "        :rtype: int\n",
    "        \"\"\"\n",
    "        pq=[]\n",
    "        for i in nums:\n",
    "            heapq.heappush(pq,i)\n",
    "        return heapq.nlargest(k,pq)[-1]"
   ]
  },
  {
   "cell_type": "code",
   "execution_count": 33,
   "metadata": {},
   "outputs": [
    {
     "data": {
      "text/plain": [
       "['i', 2]"
      ]
     },
     "execution_count": 33,
     "metadata": {},
     "output_type": "execute_result"
    }
   ],
   "source": [
    "pq=[]\n",
    "heapq.heappush(pq,[\"z\",1])\n",
    "heapq.heappush(pq,[\"i\",2])\n",
    "heapq.heappush(pq,[\"k\",0])\n",
    "heapq.heappop(pq)"
   ]
  },
  {
   "cell_type": "markdown",
   "metadata": {},
   "source": [
    "# 二分搜索\n",
    "\n",
    "时间复杂度 O(logn)，使用场景一般是有序数组的查找"
   ]
  },
  {
   "cell_type": "code",
   "execution_count": 16,
   "metadata": {
    "code_folding": []
   },
   "outputs": [],
   "source": [
    "def BinarySearch(sortedArr,target,HigherBound=False):\n",
    "    \"\"\"\n",
    "\n",
    "    :param sortedArr:\n",
    "    :param target:\n",
    "    :param HigherBound:\n",
    "    :return:\n",
    "    \"\"\"\n",
    "    low,high=0,len(sortedArr)-1\n",
    "    # 为了确认上下边界\n",
    "    # low high 会在最后选择时重合\n",
    "    while low <= high:\n",
    "        if HigherBound:\n",
    "            if sortedArr[high] == target:\n",
    "                return high\n",
    "            # 找上边界要向上取整\n",
    "            mid = low + (high - low+1) // 2\n",
    "            # low快速收缩\n",
    "            if sortedArr[mid] < target:\n",
    "                low = mid + 1\n",
    "            elif sortedArr[mid] > target:\n",
    "                high=mid-1\n",
    "            else:\n",
    "                low=mid\n",
    "        else:\n",
    "            if sortedArr[low] == target:\n",
    "                return low\n",
    "            mid = low + (high - low) // 2\n",
    "            if sortedArr[mid] > target:\n",
    "                high = mid-1\n",
    "            elif sortedArr[mid] < target:\n",
    "                low = mid+1\n",
    "            else:\n",
    "                high=mid\n",
    "    return -1"
   ]
  },
  {
   "cell_type": "code",
   "execution_count": 17,
   "metadata": {},
   "outputs": [
    {
     "name": "stdout",
     "output_type": "stream",
     "text": [
      "3\n"
     ]
    }
   ],
   "source": [
    "list=[5,7,7,8,8,10]\n",
    "print(BinarySearch(list,8,False))"
   ]
  },
  {
   "cell_type": "markdown",
   "metadata": {},
   "source": [
    "找插入位置，如果存在返回下标，不存在找到应该在的下标"
   ]
  },
  {
   "cell_type": "code",
   "execution_count": 1,
   "metadata": {},
   "outputs": [],
   "source": [
    "def searchInsert(nums, target):\n",
    "    low,high=0,len(nums)-1\n",
    "    while low<=high:\n",
    "        if nums[low]==target:\n",
    "            return low\n",
    "        mid=(low+high)//2\n",
    "        if nums[mid]<target:\n",
    "            low=mid+1\n",
    "        elif nums[mid]>target:\n",
    "            high=mid-1\n",
    "        else:\n",
    "            high=mid\n",
    "    return low"
   ]
  },
  {
   "cell_type": "markdown",
   "metadata": {},
   "source": [
    "# 动态规划\n",
    "\n",
    "## 基本动态规划\n",
    "\n",
    "初始化一维或二维数组"
   ]
  },
  {
   "cell_type": "markdown",
   "metadata": {},
   "source": [
    "### 70\n",
    "\n",
    "假设你正在爬楼梯。需要 n 阶你才能到达楼顶。\n",
    "\n",
    "每次你可以爬 1 或 2 个台阶。你有多少种不同的方法可以爬到楼顶呢？\n",
    "\n",
    "走到第i阶可由i-1和i-2到达，dp[i]=dp[i-1]+dp[i-2]"
   ]
  },
  {
   "cell_type": "code",
   "execution_count": 2,
   "metadata": {},
   "outputs": [],
   "source": [
    "def climbStairs(n):\n",
    "    if n<3:\n",
    "        return n\n",
    "    dp=[0,1,2]\n",
    "    for i in range(3,n+1):\n",
    "        dp.append(dp[i-1]+dp[i-2])\n",
    "    return dp[-1]"
   ]
  },
  {
   "cell_type": "markdown",
   "metadata": {},
   "source": [
    "### 压缩空间"
   ]
  },
  {
   "cell_type": "code",
   "execution_count": 3,
   "metadata": {},
   "outputs": [],
   "source": [
    "def climbStairs2(n):\n",
    "    if n<3:\n",
    "        return n\n",
    "    pre1,pre2=1,2\n",
    "    cur=3\n",
    "    for i in range(3,n+1):\n",
    "        cur=pre1+pre2\n",
    "        pre1,pre2=pre2,cur\n",
    "    return cur"
   ]
  },
  {
   "cell_type": "markdown",
   "metadata": {},
   "source": [
    "### 198\n",
    "\n",
    "如果两间相邻的房屋在同一晚上被小偷闯入，系统会自动报警。\n",
    "\n",
    "给定一个代表每个房屋存放金额的非负整数数组，计算你 不触动警报装置的情况下 ，一夜之内能够偷窃到的最高金额。\n",
    "\n",
    "偷或者不偷目前房间\n",
    "\n",
    "dp[i]=max(dp[i-1],dp[i-2]+val(i))"
   ]
  },
  {
   "cell_type": "code",
   "execution_count": 4,
   "metadata": {},
   "outputs": [],
   "source": [
    "def rob(nums):\n",
    "    \"\"\"\n",
    "    :type nums: List[int]\n",
    "    :rtype: int\n",
    "    \"\"\"\n",
    "    if not nums:\n",
    "        return 0\n",
    "    dp=[0,nums[0]]\n",
    "    for i in range(1,len(nums)):\n",
    "        dp.append(max(dp[i],dp[i-1]+nums[i]))\n",
    "    return dp[-1]"
   ]
  },
  {
   "cell_type": "markdown",
   "metadata": {},
   "source": [
    "### 压缩空间"
   ]
  },
  {
   "cell_type": "code",
   "execution_count": 5,
   "metadata": {},
   "outputs": [],
   "source": [
    "def rob2(nums):\n",
    "    \"\"\"\n",
    "    :type nums: List[int]\n",
    "    :rtype: int\n",
    "    \"\"\"\n",
    "    if not nums:\n",
    "        return 0\n",
    "    pre1,pre2=0,nums[0]\n",
    "    cur=pre2\n",
    "    for i in range(1,len(nums)):\n",
    "        cur=max(pre2,pre1+nums[i])\n",
    "        pre1,pre2=pre2,cur\n",
    "    return cur"
   ]
  },
  {
   "cell_type": "markdown",
   "metadata": {},
   "source": [
    "### 413\n",
    "\n",
    "函数要返回数组 A 中所有为等差数组的子数组个数\n",
    "\n",
    "num[i] - num[i-1] = num[i-1] - num[i-2]:\\\n",
    "dp.append(dp[i-1]+1)\\\n",
    "else:\\\n",
    "dp.append(0)\n",
    "\n",
    "返回sum(dp)\n",
    "\n"
   ]
  },
  {
   "cell_type": "code",
   "execution_count": 6,
   "metadata": {},
   "outputs": [],
   "source": [
    "def numberOfArithmeticSlices(A):\n",
    "    \"\"\"\n",
    "    :type A: List[int]\n",
    "    :rtype: int\n",
    "    \"\"\"\n",
    "    if len(A)<3:\n",
    "        return 0\n",
    "    pre1,pre2,cur=A[0],A[1],A[2]\n",
    "    dp=[0]\n",
    "    for i in range(2,len(A)):\n",
    "        if A[i]-A[i-1]==A[i-1]-A[i-2]:\n",
    "            dp.append(dp[-1]+1)\n",
    "        else:\n",
    "            dp.append(0)\n",
    "    return sum(dp)"
   ]
  },
  {
   "cell_type": "markdown",
   "metadata": {},
   "source": [
    "### 64 最小路径和\n",
    "\n",
    "给定一个包含非负整数的 m x n 网格 grid ，请找出一条从左上角到右下角的路径，使得路径上的数字总和为最小。\n",
    "\n",
    "说明：每次只能向下或者向右移动一步。\n",
    "\n",
    "$dp[i][j]=min(dp[i-1][j],dp[i][j-1])+grid[i][j]$\n",
    "\n",
    "如果越界就找不越界的"
   ]
  },
  {
   "cell_type": "code",
   "execution_count": 7,
   "metadata": {},
   "outputs": [],
   "source": [
    "def minPathSum(grid):\n",
    "    \"\"\"\n",
    "    :type grid: List[List[int]]\n",
    "    :rtype: int\n",
    "    \"\"\"\n",
    "    dp=[[0]*len(grid[0]) for i in range(len(grid))]\n",
    "    dp[0][0]=grid[0][0]\n",
    "    for i in range(len(grid)):\n",
    "        for j in range(len(grid[0])):\n",
    "            if i-1>=0 or j-1>=0:\n",
    "                if i-1>=0 and j-1>=0:\n",
    "                    dp[i][j]=min(dp[i-1][j],dp[i][j-1])+grid[i][j]\n",
    "                elif i-1>=0:\n",
    "                    dp[i][j]=dp[i-1][j]+grid[i][j]\n",
    "                else:\n",
    "                    dp[i][j]=dp[i][j-1]+grid[i][j]\n",
    "    return dp[-1][-1]"
   ]
  },
  {
   "cell_type": "markdown",
   "metadata": {},
   "source": [
    "### 542\n",
    "\n",
    "给定一个由 0 和 1 组成的矩阵，找出每个元素到最近的 0 的距离。\n",
    "\n",
    "两个相邻元素间的距离为 1 \n",
    "\n",
    "初始化dp inf矩阵\n",
    "\n",
    "0的点初始化为0\n",
    "\n",
    "左上到右下扫一遍\n",
    "\n",
    "右下到左上扫一遍"
   ]
  },
  {
   "cell_type": "code",
   "execution_count": 8,
   "metadata": {},
   "outputs": [],
   "source": [
    "def updateMatrix(matrix):\n",
    "    \"\"\"\n",
    "    :type matrix: List[List[int]]\n",
    "    :rtype: List[List[int]]\n",
    "    \"\"\"\n",
    "    row=len(matrix)\n",
    "    col=len(matrix[0])\n",
    "    dp=[[float('inf')]*col for i in range(row)]\n",
    "    for i in range(row):\n",
    "        for j in range(col):\n",
    "            if matrix[i][j]==0:\n",
    "                dp[i][j]=0\n",
    "    # 左上到右下移动\n",
    "    for i in range(row):\n",
    "        for j in range(col):\n",
    "            if i>0:\n",
    "                dp[i][j]=min(dp[i][j],dp[i-1][j]+1)\n",
    "            if j>0:\n",
    "                dp[i][j]=min(dp[i][j],dp[i][j-1]+1)\n",
    "    for i in range(row-1,-1,-1):\n",
    "        for j in range(col-1,-1,-1):\n",
    "            if i<row-1:\n",
    "                dp[i][j]=min(dp[i][j],dp[i+1][j]+1)\n",
    "            if j <col-1:\n",
    "                dp[i][j]=min(dp[i][j],dp[i][j+1]+1)\n",
    "    return dp"
   ]
  },
  {
   "cell_type": "markdown",
   "metadata": {},
   "source": [
    "### 221 最大正方形\n",
    "\n",
    "遍历，找到1作为右下角，检查周围三个值，取最小值+1\n",
    "\n",
    "保留最大值求平方"
   ]
  },
  {
   "cell_type": "code",
   "execution_count": 9,
   "metadata": {},
   "outputs": [],
   "source": [
    "def maximalSquare(matrix):\n",
    "    \"\"\"\n",
    "    :type matrix: List[List[str]]\n",
    "    :rtype: int\n",
    "    \"\"\"\n",
    "    row=len(matrix)\n",
    "    col=len(matrix[0])\n",
    "    dp=[[0]*col for i in range(row)]\n",
    "    Max=0\n",
    "    for i in range(row):\n",
    "        for j in range(col):\n",
    "            # 作为右下角\n",
    "            if matrix[i][j]=='1':\n",
    "                if i-1>=0 and j-1>=0:\n",
    "                    dp[i][j]=min(dp[i-1][j],dp[i][j-1],dp[i-1][j-1])+1\n",
    "                else:\n",
    "                    dp[i][j]=1\n",
    "                if dp[i][j]>Max:\n",
    "                    Max=dp[i][j]  \n",
    "    return Max**2"
   ]
  },
  {
   "cell_type": "markdown",
   "metadata": {},
   "source": [
    "## 分割类型题"
   ]
  },
  {
   "cell_type": "markdown",
   "metadata": {},
   "source": [
    "### 279 完全平方数\n",
    "\n",
    "$dp[i]$ 构造数字i需要的最少平方数\n",
    "\n",
    "计算数值i的时候遍历小于i的完全平方数，在他们的基础上加上1个完全平方数\n",
    "\n",
    "$dp[i]=min(dp[i-j**2]+1,dp[i])$\n",
    "\n",
    "$e.g. i=7, j=1,4$ 找出$dp[1]+1,dp[4]+1,dp[7]$中最小的作为$dp[7]$的新值"
   ]
  },
  {
   "cell_type": "code",
   "execution_count": 16,
   "metadata": {},
   "outputs": [],
   "source": [
    "def numSquares(n):\n",
    "    \"\"\"\n",
    "    :type n: int\n",
    "    :rtype: int\n",
    "    \"\"\"\n",
    "    # dp[i] 构造数字i需要的最少平方数\n",
    "    dp=[float('inf') for i in range(n+1)]\n",
    "    dp[0]=0\n",
    "    for i in range(1,n+1):\n",
    "        for j in range(1,int(pow(i,0.5))+1):\n",
    "            # 当前值减去一个完全平方数的情况+1\n",
    "            dp[i]=min(dp[i-j**2]+1,dp[i])\n",
    "    return dp[n]"
   ]
  },
  {
   "cell_type": "code",
   "execution_count": 6,
   "metadata": {},
   "outputs": [
    {
     "name": "stdout",
     "output_type": "stream",
     "text": [
      "0\n"
     ]
    }
   ],
   "source": [
    "rec={1:'w',2:'k',0:'d'}\n",
    "print(min(rec))\n"
   ]
  },
  {
   "cell_type": "markdown",
   "metadata": {},
   "source": [
    "# 排序\n",
    "\n",
    "### 颜色分类（0，1，2排序）"
   ]
  },
  {
   "cell_type": "code",
   "execution_count": 34,
   "metadata": {},
   "outputs": [],
   "source": [
    "class Solution:\n",
    "    def sortColors(self, nums):\n",
    "        n = len(nums)\n",
    "        p0 = p1 = 0\n",
    "        for i in range(n):\n",
    "            if nums[i] == 1:\n",
    "                nums[i], nums[p1] = nums[p1], nums[i]\n",
    "                p1 += 1\n",
    "            elif nums[i] == 0:\n",
    "                nums[i], nums[p0] = nums[p0], nums[i]\n",
    "                if p0 < p1:\n",
    "                    nums[i], nums[p1] = nums[p1], nums[i]\n",
    "                p0 += 1\n",
    "                p1 += 1"
   ]
  },
  {
   "cell_type": "code",
   "execution_count": null,
   "metadata": {},
   "outputs": [],
   "source": []
  }
 ],
 "metadata": {
  "kernelspec": {
   "display_name": "Python 3",
   "language": "python",
   "name": "python3"
  },
  "language_info": {
   "codemirror_mode": {
    "name": "ipython",
    "version": 3
   },
   "file_extension": ".py",
   "mimetype": "text/x-python",
   "name": "python",
   "nbconvert_exporter": "python",
   "pygments_lexer": "ipython3",
   "version": "3.8.3"
  }
 },
 "nbformat": 4,
 "nbformat_minor": 4
}
